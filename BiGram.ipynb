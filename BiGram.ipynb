{
 "cells": [
  {
   "cell_type": "code",
   "execution_count": 1,
   "id": "eef99e1b",
   "metadata": {},
   "outputs": [],
   "source": [
    "from tqdm import tqdm\n",
    "import numpy as np\n",
    "import torch\n",
    "import torch.nn as nn\n",
    "import torch.nn.functional as F\n",
    "from torch.utils.data import TensorDataset, DataLoader"
   ]
  },
  {
   "cell_type": "code",
   "execution_count": 2,
   "id": "97bc9c75",
   "metadata": {},
   "outputs": [
    {
     "name": "stdout",
     "output_type": "stream",
     "text": [
      "--2023-07-19 15:36:52--  https://raw.githubusercontent.com/karpathy/char-rnn/master/data/tinyshakespeare/input.txt\n",
      "Résolution de raw.githubusercontent.com (raw.githubusercontent.com)… 185.199.109.133, 185.199.108.133, 185.199.110.133, ...\n",
      "Connexion à raw.githubusercontent.com (raw.githubusercontent.com)|185.199.109.133|:443… connecté.\n",
      "requête HTTP transmise, en attente de la réponse… 200 OK\n",
      "Taille : 1115394 (1,1M) [text/plain]\n",
      "Enregistre : «input.txt.1»\n",
      "\n",
      "input.txt.1         100%[===================>]   1,06M  --.-KB/s    ds 0,06s   \n",
      "\n",
      "2023-07-19 15:36:52 (17,1 MB/s) - «input.txt.1» enregistré [1115394/1115394]\n",
      "\n"
     ]
    }
   ],
   "source": [
    "!wget https://raw.githubusercontent.com/karpathy/char-rnn/master/data/tinyshakespeare/input.txt"
   ]
  },
  {
   "cell_type": "code",
   "execution_count": 3,
   "id": "822c7696",
   "metadata": {},
   "outputs": [],
   "source": [
    "with open('input.txt',mode='r',encoding='utf-8') as f:\n",
    "    text = f.read()"
   ]
  },
  {
   "cell_type": "code",
   "execution_count": 4,
   "id": "60f1f9f7",
   "metadata": {},
   "outputs": [
    {
     "name": "stdout",
     "output_type": "stream",
     "text": [
      "\n",
      " !$&',-.3:;?ABCDEFGHIJKLMNOPQRSTUVWXYZabcdefghijklmnopqrstuvwxyz\n",
      "First Citi First Citi\n"
     ]
    }
   ],
   "source": [
    "chars = sorted(list(set(text)))\n",
    "vocab_size = len(chars)\n",
    "print(''.join(chars))\n",
    "itos = { k:v for k,v in enumerate(chars)}\n",
    "stoi = { v:k for k,v in enumerate(chars)}\n",
    "encoder = lambda string : [stoi[s] for s in string]\n",
    "decoder = lambda lst : ''.join([itos[i] for i in lst])\n",
    "print(text[:10],decoder(encoder(text[:10])))"
   ]
  },
  {
   "cell_type": "code",
   "execution_count": 5,
   "id": "e880c510",
   "metadata": {},
   "outputs": [],
   "source": [
    "data = torch.tensor(encoder(text)).cuda()"
   ]
  },
  {
   "cell_type": "code",
   "execution_count": 6,
   "id": "99c326d6",
   "metadata": {},
   "outputs": [],
   "source": [
    "train_data, val_data = data[:int(0.9*len(data))], data[int(0.9*len(data)):]"
   ]
  },
  {
   "cell_type": "code",
   "execution_count": 7,
   "id": "07a9f331",
   "metadata": {},
   "outputs": [],
   "source": [
    "def get_batch(dataset,block_size,batch_size):\n",
    "    start_idx = np.random.choice(len(dataset)-block_size,size=batch_size,replace=False)\n",
    "    inp = [dataset[i:i+block_size] for i in start_idx]\n",
    "    target = [dataset[i+1:i+block_size+1] for i in start_idx]\n",
    "    return torch.stack(inp), torch.stack(target)"
   ]
  },
  {
   "cell_type": "code",
   "execution_count": 8,
   "id": "80281eb9",
   "metadata": {},
   "outputs": [],
   "source": [
    "class BiGram(nn.Module):\n",
    "    def __init__(self,n_vocab):\n",
    "        super().__init__()\n",
    "        self.embedding = nn.Embedding(n_vocab,n_vocab)\n",
    "    \n",
    "    def forward(self,inp):\n",
    "        \n",
    "        logits = self.embedding(inp)\n",
    "        return logits\n",
    "    def generate(self,inp,sequence_length):\n",
    "        out = [inp]\n",
    "        cur_tokens = inp\n",
    "        for _ in range(sequence_length):\n",
    "            logits = self(cur_tokens)[:,-1]\n",
    "            probabilities = F.softmax(logits,dim=-1)\n",
    "            cur_tokens = torch.multinomial(probabilities,num_samples=1)\n",
    "            out.append(cur_tokens)\n",
    "            \n",
    "        return torch.stack(out).transpose(0,1)[...,0]\n"
   ]
  },
  {
   "cell_type": "code",
   "execution_count": 10,
   "id": "8ed1abf6",
   "metadata": {},
   "outputs": [
    {
     "name": "stdout",
     "output_type": "stream",
     "text": [
      "oqU:MLmos,aeNk $iVIn3zUzne$EtCXvtJLP.SQ!;$EtCuhFCMZQFqi?Vfj\n",
      "-CZfFCCzqiUKP.:,EDc!QjBR$DbjeAHSbqU'geZPo\n"
     ]
    }
   ],
   "source": [
    "model = BiGram(vocab_size).cuda()\n",
    "opt = torch.optim.Adam(model.parameters(),lr=1e-3)\n",
    "batch_size = 1024\n",
    "itr_per_epoch = int(len(train_data)/10/batch_size)\n",
    "val_itr_per_epoch = int(len(val_data)/10/batch_size)\n",
    "x,y = get_batch(train_data,1,8)\n",
    "print(decoder(model.generate(x,100)[0].detach().cpu().numpy()))"
   ]
  },
  {
   "cell_type": "code",
   "execution_count": 11,
   "id": "17420eed",
   "metadata": {},
   "outputs": [
    {
     "name": "stderr",
     "output_type": "stream",
     "text": [
      "Loss : 2.459e+00, Val : 2.471e+00: 100%|██████████| 100/100 [06:27<00:00,  3.87s/it]\n"
     ]
    }
   ],
   "source": [
    "pbar = tqdm(range(100))\n",
    "losses, val_losses = [], []\n",
    "for e in pbar:\n",
    "    for i in range(itr_per_epoch):\n",
    "        x,y  = get_batch(train_data,1,batch_size)\n",
    "        opt.zero_grad()\n",
    "        logits = model(x)[:,0]\n",
    "        loss = F.cross_entropy(logits,y.view(-1))\n",
    "        loss.backward()\n",
    "        losses.append(loss.item())\n",
    "        opt.step()\n",
    "    model.eval()\n",
    "    with torch.no_grad():\n",
    "        for i in range(val_itr_per_epoch):\n",
    "            x,y = get_batch(val_data,1,batch_size)\n",
    "            logits = model(x)[:,0]\n",
    "            loss = F.cross_entropy(logits,y.view(-1))\n",
    "            val_losses.append(loss.item())\n",
    "    model.train()\n",
    "    pbar.set_description('Loss : {:.3e}, Val : {:.3e}'.format(\n",
    "        np.mean(losses[-itr_per_epoch:]),np.mean(val_losses[-val_itr_per_epoch:])))"
   ]
  },
  {
   "cell_type": "code",
   "execution_count": 12,
   "id": "50b11565",
   "metadata": {},
   "outputs": [
    {
     "name": "stdout",
     "output_type": "stream",
     "text": [
      "urommis, sodise gon\n",
      "Bunot met:\n",
      "\n",
      "\n",
      "K: ve CLIINGS:\n",
      "Arayocy mfory e\n",
      "\n",
      "I shieshelo? n ome imefoerar'soutse athesis avasiayo ismaieldrs s k henling th hores:\n",
      "SI'de! thteale s, habl not y g torwo tes wim atad venoo ne s art touthand he h ancashtate t s ar.\n",
      "I t mouplevooutere ancoweay ainfopeche g;\n",
      "PS:\n",
      "M: t t t dere we m douarcthengld m buntheeecha k harebby rse:\n",
      "Wheorthe prrskllarkitisorsurrus, whod as lyou che thonownghry u his t ade at wo berph be! boot,\n",
      "LOOLOx' RWhrspendetuY:\n",
      "Wenetheacaco'ldis ckn:\n",
      "ICLLENCERENI'd s'dyokig the rethore bsculldy\n",
      "\n",
      "OMadur wind Riaklathedys\n",
      "Wen oune wemouro wrver wake!\n",
      "S: h, jurs\n",
      "BUSowieshouge u r sticSpranody se in'ser tharifertarhave, sem tre Irtha.\n",
      "An dst thee awf t nding bllis al:\n",
      "SCE IV:\n",
      "Who theif thtte agshe y?\n",
      "Fsutin tthouifl, frea stisck ve o lle'g h s:\n",
      "S:\n",
      "indd adesise lule d n tmar\n",
      "Tha y he ndsell!\n",
      "BRERE cal---gh Is dwof, y, wamod boferst t ppeindave mell nnde t.\n",
      "LAs icthe theas upit t retr\n",
      "\n",
      "This IOFou f lime k, des:\n",
      "I me wisthed cethere inas:\n",
      "Fed\n",
      "Bupenes\n"
     ]
    }
   ],
   "source": [
    "x,y = get_batch(train_data,1,1)\n",
    "print(decoder(model.generate(x,1000)[0].detach().cpu().numpy()))"
   ]
  },
  {
   "cell_type": "code",
   "execution_count": null,
   "id": "d722387b",
   "metadata": {},
   "outputs": [],
   "source": []
  }
 ],
 "metadata": {
  "kernelspec": {
   "display_name": "Python 3",
   "language": "python",
   "name": "python3"
  },
  "language_info": {
   "codemirror_mode": {
    "name": "ipython",
    "version": 3
   },
   "file_extension": ".py",
   "mimetype": "text/x-python",
   "name": "python",
   "nbconvert_exporter": "python",
   "pygments_lexer": "ipython3",
   "version": "3.9.2"
  }
 },
 "nbformat": 4,
 "nbformat_minor": 5
}
